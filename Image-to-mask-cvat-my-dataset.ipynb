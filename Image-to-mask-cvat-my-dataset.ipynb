{
 "cells": [
  {
   "cell_type": "markdown",
   "metadata": {},
   "source": [
    "## Import Libraries"
   ]
  },
  {
   "cell_type": "code",
   "execution_count": 5,
   "metadata": {},
   "outputs": [],
   "source": [
    "import xml.etree.ElementTree as ET\n",
    "import numpy as np\n",
    "import cv2"
   ]
  },
  {
   "cell_type": "code",
   "execution_count": 19,
   "metadata": {},
   "outputs": [],
   "source": [
    "# Convert CVAT XML to mask image (PNG) for all images in a folder (dataset)\n",
    "# Input: CVAT XML file, folder containing images\n",
    "# Output: Mask images (PNG) for all images in the folder\n",
    "def cvat_xml_to_mask(xml_file, img_folder, mask_folder):\n",
    "    tree = ET.parse(xml_file)\n",
    "    root = tree.getroot()\n",
    "    for image in root.findall('image'):\n",
    "        image_name = image.get('name')\n",
    "        image_width = int(image.get('width'))\n",
    "        image_height = int(image.get('height'))\n",
    "        mask = np.zeros((image_height, image_width), dtype=np.uint8)\n",
    "        for polygon in image.findall('polygon'):\n",
    "            label = polygon.get('label')\n",
    "            points = polygon.get('points')\n",
    "            points = points.split(';')\n",
    "            points = [point.split(',') for point in points]\n",
    "            points = [[int(float(point[0])), int(float(point[1]))] for point in points]\n",
    "            points = np.array(points, dtype=np.int32)\n",
    "            cv2.fillPoly(mask, [points], 255)\n",
    "        cv2.imwrite(mask_folder + '/' + image_name + '.png', mask)"
   ]
  },
  {
   "cell_type": "code",
   "execution_count": 20,
   "metadata": {},
   "outputs": [],
   "source": [
    "file_path = \"Cube_Segmentation_cvat_for_images/\"\n",
    "\n",
    "# get xml_file\n",
    "xml_file = file_path + \"annotations/annotations.xml\"\n",
    "\n",
    "# get img_folder\n",
    "img_folder = file_path + \"images\"\n",
    "\n",
    "# get mask_folder\n",
    "mask_folder = file_path + \"masks\"\n",
    "\n",
    "# convert cvat xml to mask images\n",
    "cvat_xml_to_mask(xml_file, img_folder, mask_folder)"
   ]
  }
 ],
 "metadata": {
  "kernelspec": {
   "display_name": "Python 3",
   "language": "python",
   "name": "python3"
  },
  "language_info": {
   "codemirror_mode": {
    "name": "ipython",
    "version": 3
   },
   "file_extension": ".py",
   "mimetype": "text/x-python",
   "name": "python",
   "nbconvert_exporter": "python",
   "pygments_lexer": "ipython3",
   "version": "3.10.11"
  },
  "orig_nbformat": 4
 },
 "nbformat": 4,
 "nbformat_minor": 2
}
